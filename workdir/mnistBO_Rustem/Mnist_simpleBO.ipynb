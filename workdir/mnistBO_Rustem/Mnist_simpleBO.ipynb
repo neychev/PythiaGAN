{
 "cells": [
  {
   "cell_type": "code",
   "execution_count": 1,
   "metadata": {},
   "outputs": [],
   "source": [
    "import numpy as np\n",
    "import mnist\n",
    "from skimage import transform\n",
    "import skopt\n",
    "import os\n",
    "\n",
    "import matplotlib.pyplot as plt\n",
    "%matplotlib inline"
   ]
  },
  {
   "cell_type": "code",
   "execution_count": 2,
   "metadata": {},
   "outputs": [
    {
     "name": "stdout",
     "output_type": "stream",
     "text": [
      "(6000, 28, 28)\n",
      "(1000, 28, 28)\n"
     ]
    },
    {
     "data": {
      "text/plain": [
       "<matplotlib.image.AxesImage at 0x7f476929eda0>"
      ]
     },
     "execution_count": 2,
     "metadata": {},
     "output_type": "execute_result"
    },
    {
     "data": {
      "image/png": "[encoded data removed]",
      "text/plain": [
       "<matplotlib.figure.Figure at 0x7f476d6c1668>"
      ]
     },
     "metadata": {},
     "output_type": "display_data"
    }
   ],
   "source": [
    "X_train, y = mnist.read(dataset='training', path=os.getcwd()+'/data/')\n",
    "X_train = X_train.reshape(-1, 28, 28)\n",
    "X_test, y_test = mnist.read(dataset='testing', path=os.getcwd()+'/data/')\n",
    "X_test = X_test.reshape(-1, 28, 28)\n",
    "\n",
    "X_train = X_train.astype('float')/255.0\n",
    "X_test = X_test.astype('float')/255.0\n",
    "\n",
    "\n",
    "X_train = X_train[range(0,len(X_train),10),:,:]\n",
    "X_test = X_test[range(0,len(X_test),10),:,:]\n",
    "y_test = y_test[range(0,len(X_test),10)]\n",
    "\n",
    "print(X_train.shape)\n",
    "print(X_test.shape)\n",
    "plt.imshow(X_train[2])"
   ]
  },
  {
   "cell_type": "code",
   "execution_count": 3,
   "metadata": {},
   "outputs": [
    {
     "data": {
      "text/plain": [
       "<matplotlib.image.AxesImage at 0x7f47691ffe48>"
      ]
     },
     "execution_count": 3,
     "metadata": {},
     "output_type": "execute_result"
    },
    {
     "data": {
      "image/png": "[encoded data removed]",
      "text/plain": [
       "<matplotlib.figure.Figure at 0x7f47a410da58>"
      ]
     },
     "metadata": {},
     "output_type": "display_data"
    }
   ],
   "source": [
    "image_datas = [transform.rotate(X_train[2],angle) for angle in [-180,90,0,90]]\n",
    "f, axarr = plt.subplots(2,2)\n",
    "axarr[0,0].imshow(image_datas[0])\n",
    "axarr[0,1].imshow(image_datas[1])\n",
    "axarr[1,0].imshow(image_datas[2])\n",
    "axarr[1,1].imshow(image_datas[3])"
   ]
  },
  {
   "cell_type": "code",
   "execution_count": 4,
   "metadata": {},
   "outputs": [],
   "source": [
    "def generate_data(angle):\n",
    "    \"\"\"Rotate all images\n",
    "    **Parameters**\n",
    "        :alpha: float; Rotation angle in degrees in counter-clockwise direction.\n",
    "    \"\"\"\n",
    "    X_train_r = np.array([transform.rotate(img,angle) for img in X_train])\n",
    "    X_test_r = np.array([transform.rotate(img,angle) for img in X_test])    \n",
    "    return X_train_r, X_test_r"
   ]
  },
  {
   "cell_type": "code",
   "execution_count": 5,
   "metadata": {},
   "outputs": [
    {
     "name": "stdout",
     "output_type": "stream",
     "text": [
      "CPU times: user 1.79 s, sys: 36 ms, total: 1.82 s\n",
      "Wall time: 1.81 s\n"
     ]
    }
   ],
   "source": [
    "%%time\n",
    "X_train_90, X_test_90 = generate_data(90.0)"
   ]
  },
  {
   "cell_type": "code",
   "execution_count": 6,
   "metadata": {},
   "outputs": [],
   "source": [
    "from sklearn.metrics import log_loss,accuracy_score\n",
    "def lower_bound_value(model,angle):\n",
    "    \"\"\"Find a value of classifier in point\n",
    "    **Parameters**\n",
    "        :model: model with functions fit/predict_proba\n",
    "        :alpha: float; Rotation angle in degrees in counter-clockwise direction.\n",
    "    \"\"\"\n",
    "    X_train_r,X_test_r = generate_data(angle)\n",
    "    y_train = np.zeros(X_train.shape[0])\n",
    "    y_train_r = np.ones(X_train_r.shape[0])\n",
    "    y_test = np.zeros(X_test.shape[0])\n",
    "    y_test_r = np.ones(X_test_r.shape[0])\n",
    "    \n",
    "    y = np.concatenate([y_train,y_train_r], axis = 0)\n",
    "    X = np.concatenate([X_train,X_train_r], axis = 0)\n",
    "    \n",
    "    model.fit(X.reshape(X.shape[0],-1),y)\n",
    "    \n",
    "    y_val = np.concatenate([y_test,y_test_r], axis = 0).astype('float')\n",
    "    X_val = np.concatenate([X_test,X_test_r], axis = 0)\n",
    "    y_pred = model.predict_proba(X_val.reshape(X_val.shape[0],-1))\n",
    "    return np.log(2) - log_loss(y_val,y_pred)\n",
    "\n",
    "\n",
    "def find_minimize_function(model):\n",
    "    \"\"\"Find a minimize function with current model (Wrapper)\n",
    "    **Parameters**\n",
    "        :model: model with functions fit/predict\n",
    "    \"\"\"\n",
    "    def minimize_function(angle):\n",
    "        return lower_bound_value(model,angle)\n",
    "    return minimize_function"
   ]
  },
  {
   "cell_type": "code",
   "execution_count": 7,
   "metadata": {},
   "outputs": [],
   "source": [
    "from tqdm import tqdm_notebook\n",
    "from sklearn.linear_model import LogisticRegression\n",
    "from skopt import Optimizer\n",
    "        \n",
    "def visualise(optimizer):    \n",
    "    points = np.linspace(-180, 180, 360).reshape(-1, 1)\n",
    "    mu, sigma = optimizer.models[-1].predict(optimizer.space.transform(list(points)), return_std=True)\n",
    "    plt.plot(points, mu, \"r\", label=\"Upper bound by classifier\")\n",
    "    plt.plot(points, mu+sigma, \"g--\")\n",
    "    plt.plot(points, mu-sigma, \"g--\")\n",
    "    plt.scatter(optimizer.Xi,optimizer.yi,c='b')\n",
    "        \n",
    "    plt.legend()\n",
    "    plt.grid()\n",
    "    plt.show()"
   ]
  },
  {
   "cell_type": "markdown",
   "metadata": {},
   "source": [
    "---\n",
    "# Simple BO"
   ]
  },
  {
   "cell_type": "code",
   "execution_count": 10,
   "metadata": {},
   "outputs": [
    {
     "data": {
      "application/vnd.jupyter.widget-view+json": {
       "model_id": "6ab279c432b247e4bf7b756c2c2c8d47",
       "version_major": 2,
       "version_minor": 0
      },
      "text/html": [
       "<p>Failed to display Jupyter Widget of type <code>HBox</code>.</p>\n",
       "<p>\n",
       "  If you're reading this message in the Jupyter Notebook or JupyterLab Notebook, it may mean\n",
       "  that the widgets JavaScript is still loading. If this message persists, it\n",
       "  likely means that the widgets JavaScript library is either not installed or\n",
       "  not enabled. See the <a href=\"https://ipywidgets.readthedocs.io/en/stable/user_install.html\">Jupyter\n",
       "  Widgets Documentation</a> for setup instructions.\n",
       "</p>\n",
       "<p>\n",
       "  If you're reading this message in another frontend (for example, a static\n",
       "  rendering on GitHub or <a href=\"https://nbviewer.jupyter.org/\">NBViewer</a>),\n",
       "  it may mean that your frontend doesn't currently support widgets.\n",
       "</p>\n"
      ],
      "text/plain": [
       "HBox(children=(IntProgress(value=0, max=15), HTML(value='')))"
      ]
     },
     "metadata": {},
     "output_type": "display_data"
    },
    {
     "name": "stdout",
     "output_type": "stream",
     "text": [
      "[23.384810529603556] 0.26557291440440833\n",
      "[7.337901226510326] 0.03379874601669075\n",
      "[-17.931994238023208] 0.17074367354575737\n",
      "[-20.73726953121755] 0.21083576084341366\n",
      "[-8.713144187442623] 0.030636143297149143\n",
      "[2.359436780407975] 0.0020855321468804533\n",
      "[32.13215823711221] 0.3693086448159665\n",
      "[-23.164965108393943] 0.24906272782497685\n",
      "[131.53052717991972] 0.6725669946973174\n",
      "[-53.27074195158649] 0.5295398889510725\n",
      "[-1.4055670578415516] -0.0008456079358923896\n",
      "[-180.0] 0.6732253457560807\n",
      "[180.0] 0.6732340961509102\n",
      "[-115.66040089209402] 0.67085666541439\n",
      "[82.17210913653355] 0.6381411146351045\n",
      "\n"
     ]
    },
    {
     "data": {
      "image/png": "[encoded data removed]",
      "text/plain": [
       "<matplotlib.figure.Figure at 0x7f47651c3240>"
      ]
     },
     "metadata": {},
     "output_type": "display_data"
    },
    {
     "data": {
      "text/plain": [
       "[<matplotlib.lines.Line2D at 0x7f4768a3b320>]"
      ]
     },
     "execution_count": 10,
     "metadata": {},
     "output_type": "execute_result"
    },
    {
     "data": {
      "image/png": "[encoded data removed]",
      "text/plain": [
       "<matplotlib.figure.Figure at 0x7f47651be7b8>"
      ]
     },
     "metadata": {},
     "output_type": "display_data"
    }
   ],
   "source": [
    "n_points = 15\n",
    "angle_bound = (-180.0,180.0)\n",
    "samples = list(range(n_points))\n",
    "scores = []\n",
    "\n",
    "min_score = np.log(2)\n",
    "optimizer = Optimizer([angle_bound])\n",
    "minimize_func = find_minimize_function(LogisticRegression())\n",
    "for i in tqdm_notebook(range(n_points)):\n",
    "    angle = optimizer.ask()\n",
    "    f_val = minimize_func(angle[0])\n",
    "    optimizer.tell(angle, f_val)\n",
    "    print(angle,f_val)\n",
    "    min_score = min(min_score,f_val)\n",
    "    scores.append(min_score)\n",
    "    \n",
    "    \n",
    "visualise(optimizer)\n",
    "plt.plot(samples,scores)\n"
   ]
  },
  {
   "cell_type": "code",
   "execution_count": null,
   "metadata": {},
   "outputs": [],
   "source": []
  }
 ],
 "metadata": {
  "kernelspec": {
   "display_name": "Python 3",
   "language": "python",
   "name": "python3"
  },
  "language_info": {
   "codemirror_mode": {
    "name": "ipython",
    "version": 3
   },
   "file_extension": ".py",
   "mimetype": "text/x-python",
   "name": "python",
   "nbconvert_exporter": "python",
   "pygments_lexer": "ipython3",
   "version": "3.5.2"
  }
 },
 "nbformat": 4,
 "nbformat_minor": 2
}
